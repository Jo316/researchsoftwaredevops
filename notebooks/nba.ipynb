{
 "cells": [
  {
   "cell_type": "code",
   "execution_count": 29,
   "metadata": {},
   "outputs": [],
   "source": [
    "import pandas as pd \n",
    "import matplotlib.pyplot as plt \n",
    "import numpy as np \n",
    "import os \n",
    "import sys\n",
    "from vars import rpath"
   ]
  },
  {
   "cell_type": "code",
   "execution_count": 30,
   "metadata": {},
   "outputs": [],
   "source": [
    "sys.path.append(rpath)\n",
    "os.chdir(rpath)"
   ]
  },
  {
   "cell_type": "code",
   "execution_count": 31,
   "metadata": {},
   "outputs": [],
   "source": [
    "dr = pd.read_csv('data/rain_data_2015-12.csv')"
   ]
  },
  {
   "cell_type": "code",
   "execution_count": 32,
   "metadata": {},
   "outputs": [],
   "source": [
    "dr = pd.read_csv('data/rain_data_2015-12.csv', usecols=['Site', 'Date', 'Rainfall (mm)'])"
   ]
  },
  {
   "cell_type": "code",
   "execution_count": 33,
   "metadata": {},
   "outputs": [
    {
     "data": {
      "text/plain": [
       "(2976, 2)"
      ]
     },
     "execution_count": 33,
     "metadata": {},
     "output_type": "execute_result"
    }
   ],
   "source": [
    "from catchment import models\n",
    "dataset = models.read_variable_from_csv('data/rain_data_2015-12.csv')\n",
    "dataset.shape"
   ]
  },
  {
   "cell_type": "code",
   "execution_count": 34,
   "metadata": {},
   "outputs": [
    {
     "data": {
      "text/html": [
       "<div>\n",
       "<style scoped>\n",
       "    .dataframe tbody tr th:only-of-type {\n",
       "        vertical-align: middle;\n",
       "    }\n",
       "\n",
       "    .dataframe tbody tr th {\n",
       "        vertical-align: top;\n",
       "    }\n",
       "\n",
       "    .dataframe thead th {\n",
       "        text-align: right;\n",
       "    }\n",
       "</style>\n",
       "<table border=\"1\" class=\"dataframe\">\n",
       "  <thead>\n",
       "    <tr style=\"text-align: right;\">\n",
       "      <th></th>\n",
       "      <th>FP35</th>\n",
       "      <th>PL16</th>\n",
       "    </tr>\n",
       "  </thead>\n",
       "  <tbody>\n",
       "    <tr>\n",
       "      <th>2005-12-01 23:00:00</th>\n",
       "      <td>0.0</td>\n",
       "      <td>0.4</td>\n",
       "    </tr>\n",
       "    <tr>\n",
       "      <th>2005-12-01 23:15:00</th>\n",
       "      <td>0.0</td>\n",
       "      <td>0.4</td>\n",
       "    </tr>\n",
       "    <tr>\n",
       "      <th>2005-12-01 23:30:00</th>\n",
       "      <td>0.0</td>\n",
       "      <td>0.4</td>\n",
       "    </tr>\n",
       "    <tr>\n",
       "      <th>2005-12-01 23:45:00</th>\n",
       "      <td>0.0</td>\n",
       "      <td>0.6</td>\n",
       "    </tr>\n",
       "    <tr>\n",
       "      <th>2005-12-02 00:00:00</th>\n",
       "      <td>0.2</td>\n",
       "      <td>0.2</td>\n",
       "    </tr>\n",
       "    <tr>\n",
       "      <th>2005-12-02 00:15:00</th>\n",
       "      <td>0.0</td>\n",
       "      <td>0.4</td>\n",
       "    </tr>\n",
       "    <tr>\n",
       "      <th>2005-12-02 00:30:00</th>\n",
       "      <td>0.0</td>\n",
       "      <td>0.8</td>\n",
       "    </tr>\n",
       "    <tr>\n",
       "      <th>2005-12-02 00:45:00</th>\n",
       "      <td>0.2</td>\n",
       "      <td>0.6</td>\n",
       "    </tr>\n",
       "  </tbody>\n",
       "</table>\n",
       "</div>"
      ],
      "text/plain": [
       "                     FP35  PL16\n",
       "2005-12-01 23:00:00   0.0   0.4\n",
       "2005-12-01 23:15:00   0.0   0.4\n",
       "2005-12-01 23:30:00   0.0   0.4\n",
       "2005-12-01 23:45:00   0.0   0.6\n",
       "2005-12-02 00:00:00   0.2   0.2\n",
       "2005-12-02 00:15:00   0.0   0.4\n",
       "2005-12-02 00:30:00   0.0   0.8\n",
       "2005-12-02 00:45:00   0.2   0.6"
      ]
     },
     "execution_count": 34,
     "metadata": {},
     "output_type": "execute_result"
    }
   ],
   "source": [
    "sample_dataset = models.read_variable_from_csv('data/rain_data_small.csv')\n",
    "sample_dataset"
   ]
  },
  {
   "cell_type": "code",
   "execution_count": 35,
   "metadata": {},
   "outputs": [],
   "source": [
    "import pandas as pd\n",
    "import pandas.testing as pdt\n",
    "from catchment.models import daily_mean\n",
    "import datetime\n",
    "\n",
    "test_input = pd.DataFrame(\n",
    "                data=[[1.0, 2.0],\n",
    "                      [3.0, 4.0],\n",
    "                      [5.0, 6.0]],\n",
    "                index=[pd.to_datetime('2000-01-01 01:00'),\n",
    "                       pd.to_datetime('2000-01-01 02:00'),\n",
    "                       pd.to_datetime('2000-01-01 03:00')],\n",
    "                columns=['A', 'B']\n",
    ")\n",
    "test_result = pd.DataFrame(\n",
    "                 data=[[3.0, 4.0]],\n",
    "                 index=[datetime.date(2000, 1, 1)],\n",
    "                 columns=['A', 'B']\n",
    ")\n",
    "pdt.assert_frame_equal(daily_mean(test_input), test_result)"
   ]
  },
  {
   "cell_type": "code",
   "execution_count": 36,
   "metadata": {},
   "outputs": [
    {
     "ename": "AssertionError",
     "evalue": "DataFrame.iloc[:, 0] (column name=\"A\") are different\n\nDataFrame.iloc[:, 0] (column name=\"A\") values are different (100.0 %)\n[index]: [2000-01-01]\n[left]:  [3.0]\n[right]: [2.0]",
     "output_type": "error",
     "traceback": [
      "\u001b[0;31m---------------------------------------------------------------------------\u001b[0m",
      "\u001b[0;31mAssertionError\u001b[0m                            Traceback (most recent call last)",
      "Cell \u001b[0;32mIn[36], line 18\u001b[0m\n\u001b[1;32m      6\u001b[0m test_input \u001b[38;5;241m=\u001b[39m pd\u001b[38;5;241m.\u001b[39mDataFrame(\n\u001b[1;32m      7\u001b[0m                 data\u001b[38;5;241m=\u001b[39m[[\u001b[38;5;241m2.0\u001b[39m, \u001b[38;5;241m0.0\u001b[39m],\n\u001b[1;32m      8\u001b[0m                       [\u001b[38;5;241m4.0\u001b[39m, \u001b[38;5;241m0.0\u001b[39m]],\n\u001b[0;32m   (...)\u001b[0m\n\u001b[1;32m     11\u001b[0m                 columns\u001b[38;5;241m=\u001b[39m[\u001b[38;5;124m'\u001b[39m\u001b[38;5;124mA\u001b[39m\u001b[38;5;124m'\u001b[39m, \u001b[38;5;124m'\u001b[39m\u001b[38;5;124mB\u001b[39m\u001b[38;5;124m'\u001b[39m]\n\u001b[1;32m     12\u001b[0m )\n\u001b[1;32m     13\u001b[0m test_result \u001b[38;5;241m=\u001b[39m pd\u001b[38;5;241m.\u001b[39mDataFrame(\n\u001b[1;32m     14\u001b[0m                  data\u001b[38;5;241m=\u001b[39m[[\u001b[38;5;241m2.0\u001b[39m, \u001b[38;5;241m0.0\u001b[39m]],\n\u001b[1;32m     15\u001b[0m                  index\u001b[38;5;241m=\u001b[39m[datetime\u001b[38;5;241m.\u001b[39mdate(\u001b[38;5;241m2000\u001b[39m, \u001b[38;5;241m1\u001b[39m, \u001b[38;5;241m1\u001b[39m)],\n\u001b[1;32m     16\u001b[0m                  columns\u001b[38;5;241m=\u001b[39m[\u001b[38;5;124m'\u001b[39m\u001b[38;5;124mA\u001b[39m\u001b[38;5;124m'\u001b[39m, \u001b[38;5;124m'\u001b[39m\u001b[38;5;124mB\u001b[39m\u001b[38;5;124m'\u001b[39m]\n\u001b[1;32m     17\u001b[0m )\n\u001b[0;32m---> 18\u001b[0m \u001b[43mpdt\u001b[49m\u001b[38;5;241;43m.\u001b[39;49m\u001b[43massert_frame_equal\u001b[49m\u001b[43m(\u001b[49m\u001b[43mdaily_mean\u001b[49m\u001b[43m(\u001b[49m\u001b[43mtest_input\u001b[49m\u001b[43m)\u001b[49m\u001b[43m,\u001b[49m\u001b[43m \u001b[49m\u001b[43mtest_result\u001b[49m\u001b[43m)\u001b[49m\n\u001b[1;32m     20\u001b[0m test_input \u001b[38;5;241m=\u001b[39m pd\u001b[38;5;241m.\u001b[39mDataFrame(\n\u001b[1;32m     21\u001b[0m                 data\u001b[38;5;241m=\u001b[39m[[\u001b[38;5;241m0.0\u001b[39m, \u001b[38;5;241m0.0\u001b[39m],\n\u001b[1;32m     22\u001b[0m                       [\u001b[38;5;241m0.0\u001b[39m, \u001b[38;5;241m0.0\u001b[39m]],\n\u001b[0;32m   (...)\u001b[0m\n\u001b[1;32m     25\u001b[0m                 columns\u001b[38;5;241m=\u001b[39m[\u001b[38;5;124m'\u001b[39m\u001b[38;5;124mA\u001b[39m\u001b[38;5;124m'\u001b[39m, \u001b[38;5;124m'\u001b[39m\u001b[38;5;124mB\u001b[39m\u001b[38;5;124m'\u001b[39m]\n\u001b[1;32m     26\u001b[0m )\n\u001b[1;32m     27\u001b[0m test_result \u001b[38;5;241m=\u001b[39m pd\u001b[38;5;241m.\u001b[39mDataFrame(\n\u001b[1;32m     28\u001b[0m                  data\u001b[38;5;241m=\u001b[39m[[\u001b[38;5;241m0.0\u001b[39m, \u001b[38;5;241m0.0\u001b[39m]],\n\u001b[1;32m     29\u001b[0m                  index\u001b[38;5;241m=\u001b[39m[datetime\u001b[38;5;241m.\u001b[39mdate(\u001b[38;5;241m2000\u001b[39m, \u001b[38;5;241m1\u001b[39m, \u001b[38;5;241m1\u001b[39m)],\n\u001b[1;32m     30\u001b[0m                  columns\u001b[38;5;241m=\u001b[39m[\u001b[38;5;124m'\u001b[39m\u001b[38;5;124mA\u001b[39m\u001b[38;5;124m'\u001b[39m, \u001b[38;5;124m'\u001b[39m\u001b[38;5;124mB\u001b[39m\u001b[38;5;124m'\u001b[39m]\n\u001b[1;32m     31\u001b[0m )\n",
      "    \u001b[0;31m[... skipping hidden 2 frame]\u001b[0m\n",
      "File \u001b[0;32m~/miniconda3/envs/dev/lib/python3.9/site-packages/pandas/_libs/testing.pyx:52\u001b[0m, in \u001b[0;36mpandas._libs.testing.assert_almost_equal\u001b[0;34m()\u001b[0m\n",
      "File \u001b[0;32m~/miniconda3/envs/dev/lib/python3.9/site-packages/pandas/_libs/testing.pyx:167\u001b[0m, in \u001b[0;36mpandas._libs.testing.assert_almost_equal\u001b[0;34m()\u001b[0m\n",
      "File \u001b[0;32m~/miniconda3/envs/dev/lib/python3.9/site-packages/pandas/_testing/asserters.py:682\u001b[0m, in \u001b[0;36mraise_assert_detail\u001b[0;34m(obj, message, left, right, diff, index_values)\u001b[0m\n\u001b[1;32m    679\u001b[0m \u001b[38;5;28;01mif\u001b[39;00m diff \u001b[38;5;129;01mis\u001b[39;00m \u001b[38;5;129;01mnot\u001b[39;00m \u001b[38;5;28;01mNone\u001b[39;00m:\n\u001b[1;32m    680\u001b[0m     msg \u001b[38;5;241m+\u001b[39m\u001b[38;5;241m=\u001b[39m \u001b[38;5;124mf\u001b[39m\u001b[38;5;124m\"\u001b[39m\u001b[38;5;130;01m\\n\u001b[39;00m\u001b[38;5;124m[diff]: \u001b[39m\u001b[38;5;132;01m{\u001b[39;00mdiff\u001b[38;5;132;01m}\u001b[39;00m\u001b[38;5;124m\"\u001b[39m\n\u001b[0;32m--> 682\u001b[0m \u001b[38;5;28;01mraise\u001b[39;00m \u001b[38;5;167;01mAssertionError\u001b[39;00m(msg)\n",
      "\u001b[0;31mAssertionError\u001b[0m: DataFrame.iloc[:, 0] (column name=\"A\") are different\n\nDataFrame.iloc[:, 0] (column name=\"A\") values are different (100.0 %)\n[index]: [2000-01-01]\n[left]:  [3.0]\n[right]: [2.0]"
     ]
    }
   ],
   "source": [
    "import pandas as pd\n",
    "import pandas.testing as pdt\n",
    "from catchment.models import daily_mean\n",
    "import datetime\n",
    "\n",
    "test_input = pd.DataFrame(\n",
    "                data=[[2.0, 0.0],\n",
    "                      [4.0, 0.0]],\n",
    "                index=[pd.to_datetime('2000-01-01 01:00'),\n",
    "                       pd.to_datetime('2000-01-01 02:00')],\n",
    "                columns=['A', 'B']\n",
    ")\n",
    "test_result = pd.DataFrame(\n",
    "                 data=[[2.0, 0.0]],\n",
    "                 index=[datetime.date(2000, 1, 1)],\n",
    "                 columns=['A', 'B']\n",
    ")\n",
    "pdt.assert_frame_equal(daily_mean(test_input), test_result)\n",
    "\n",
    "test_input = pd.DataFrame(\n",
    "                data=[[0.0, 0.0],\n",
    "                      [0.0, 0.0]],\n",
    "                index=[pd.to_datetime('2000-01-01 01:00'),\n",
    "                       pd.to_datetime('2000-01-01 02:00')],\n",
    "                columns=['A', 'B']\n",
    ")\n",
    "test_result = pd.DataFrame(\n",
    "                 data=[[0.0, 0.0]],\n",
    "                 index=[datetime.date(2000, 1, 1)],\n",
    "                 columns=['A', 'B']\n",
    ")\n",
    "pdt.assert_frame_equal(daily_mean(test_input), test_result)\n",
    "\n",
    "test_input = pd.DataFrame(\n",
    "                data=[[1.0, 2.0],\n",
    "                      [3.0, 4.0],\n",
    "                      [5.0, 6.0]],\n",
    "                index=[pd.to_datetime('2000-01-01 01:00'),\n",
    "                       pd.to_datetime('2000-01-01 02:00'),\n",
    "                       pd.to_datetime('2000-01-01 03:00')],\n",
    "                columns=['A', 'B']\n",
    ")\n",
    "test_result = pd.DataFrame(\n",
    "                 data=[[3.0, 4.0]],\n",
    "                 index=[datetime.date(2000, 1, 1)],\n",
    "                 columns=['A', 'B']\n",
    ")\n",
    "pdt.assert_frame_equal(daily_mean(test_input), test_result)"
   ]
  },
  {
   "cell_type": "code",
   "execution_count": 37,
   "metadata": {},
   "outputs": [],
   "source": [
    "test_input = pd.DataFrame(\n",
    "                data=[[2.0, 0.0],\n",
    "                      [4.0, 0.0]],\n",
    "                index=[pd.to_datetime('2000-01-01 01:00'),\n",
    "                       pd.to_datetime('2000-01-01 02:00')],\n",
    "                columns=['A', 'B']\n",
    ")\n",
    "test_result = pd.DataFrame(\n",
    "                 data=[[3.0, 0.0]],\n",
    "                 index=[datetime.date(2000, 1, 1)],\n",
    "                 columns=['A', 'B']\n",
    ")\n",
    "pdt.assert_frame_equal(daily_mean(test_input), test_result)"
   ]
  },
  {
   "cell_type": "code",
   "execution_count": null,
   "metadata": {},
   "outputs": [],
   "source": []
  },
  {
   "cell_type": "code",
   "execution_count": 39,
   "metadata": {},
   "outputs": [
    {
     "name": "stdout",
     "output_type": "stream",
     "text": [
      "[60, 34, 84, 67, 85, 44, 18, 48, 1, 47]\n",
      "[60, 34, 84, 67, 85, 44, 18, 48, 1, 47]\n"
     ]
    }
   ],
   "source": [
    "import random\n",
    "\n",
    "seed1 = 12\n",
    "seed2 = 13\n",
    "\n",
    "random.seed(seed1)\n",
    "print(random.sample(range(0, 100), 10))\n",
    "random.seed(seed1)\n",
    "print(random.sample(range(0, 100), 10))"
   ]
  },
  {
   "cell_type": "code",
   "execution_count": 40,
   "metadata": {},
   "outputs": [
    {
     "name": "stdout",
     "output_type": "stream",
     "text": [
      "[33, 37, 87, 23, 83, 29, 85, 18, 28, 82]\n"
     ]
    }
   ],
   "source": [
    "random.seed(seed2)\n",
    "print(random.sample(range(0, 100), 10))"
   ]
  },
  {
   "cell_type": "code",
   "execution_count": 41,
   "metadata": {},
   "outputs": [
    {
     "name": "stdout",
     "output_type": "stream",
     "text": [
      "[60, 34, 84, 67, 85, 44, 18, 48, 1, 47]\n"
     ]
    }
   ],
   "source": [
    "random.seed(seed1)\n",
    "print(random.sample(range(0, 100), 10))"
   ]
  },
  {
   "cell_type": "code",
   "execution_count": 43,
   "metadata": {},
   "outputs": [
    {
     "name": "stdout",
     "output_type": "stream",
     "text": [
      "[60, 34, 84, 67, 85, 44, 18, 48, 1, 47]\n"
     ]
    }
   ],
   "source": [
    "random.seed(seed1)\n",
    "print(random.sample(range(0, 100), 10))"
   ]
  },
  {
   "cell_type": "code",
   "execution_count": 44,
   "metadata": {},
   "outputs": [],
   "source": [
    "import numpy as np\n",
    "def data_normalise(data):\n",
    "    \"\"\"Normalise any given 2D data array\"\"\"\n",
    "    max = np.array(np.max(data, axis=1))\n",
    "    return data / max[np.newaxis, :]"
   ]
  },
  {
   "cell_type": "code",
   "execution_count": null,
   "metadata": {},
   "outputs": [],
   "source": []
  }
 ],
 "metadata": {
  "kernelspec": {
   "display_name": "dev",
   "language": "python",
   "name": "python3"
  },
  "language_info": {
   "codemirror_mode": {
    "name": "ipython",
    "version": 3
   },
   "file_extension": ".py",
   "mimetype": "text/x-python",
   "name": "python",
   "nbconvert_exporter": "python",
   "pygments_lexer": "ipython3",
   "version": "3.9.18"
  }
 },
 "nbformat": 4,
 "nbformat_minor": 2
}
